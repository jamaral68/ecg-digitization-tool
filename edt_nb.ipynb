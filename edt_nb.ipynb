{
 "cells": [
  {
   "cell_type": "code",
   "execution_count": 1,
   "metadata": {},
   "outputs": [],
   "source": [
    "from edt_utils import get_rectangular_contours, py_blockproc, display_segments, detect_ref_pulse, print_line_dict,segment_to_df, remove_text\n",
    "from edt_utils import process_line,get_values_from_img,measure_extract_pulse \n",
    "from matplotlib import pyplot as plt\n",
    "from scipy.signal import find_peaks\n",
    "from ss import pattern_match\n",
    "from scipy import ndimage\n",
    "from PIL import Image"
   ]
  },
  {
   "cell_type": "code",
   "execution_count": 2,
   "metadata": {},
   "outputs": [],
   "source": [
    "import skimage as ski\n",
    "import pandas as pd\n",
    "import numpy as np\n",
    "import cv2 as cv\n",
    "import pytesseract\n",
    "import operator\n",
    "import scipy\n",
    "import sys"
   ]
  },
  {
   "cell_type": "code",
   "execution_count": 3,
   "metadata": {},
   "outputs": [],
   "source": [
    "image_name = 'images/ecg_test.png'\n",
    "template_name = 'images/pul.png'\n",
    "csv_name = 'ecg_csv.csv'"
   ]
  },
  {
   "cell_type": "code",
   "execution_count": 4,
   "metadata": {},
   "outputs": [],
   "source": [
    "BORDER_GAP = 2 # gap around the border\n",
    "layout = (3,4)\n",
    "\n",
    "# indicates if there is a pulse\n",
    "# pulse = 0 - pulse in all rows\n",
    "# pulse = line_list - specifies which rows contain pulse signals \n",
    "pulse = -1   \n",
    "\n",
    "# which line has the rhythm signal\n",
    "rhythm = 4 \n",
    "\n",
    "verbose = 0\n",
    "\n",
    "mmpsec = 25 # 25 mm/seg\n",
    "mmpmv = 10 # 10 mm/mV\n",
    "\n",
    "pulse_width_mm = 5 # pulse width in mm\n",
    "pulse_height_mm =10  # pulse height in mm\n",
    "pulse_per_sec = pulse_width_mm / mmpsec\n",
    "pulse_per_mv= pulse_height_mm / mmpmv\n",
    "sample_frequency = 500\n",
    "time_lead = 2.5 # duratiom of the segment in seconds\n",
    "num_sampling_points = time_lead * sample_frequency"
   ]
  },
  {
   "cell_type": "code",
   "execution_count": 5,
   "metadata": {},
   "outputs": [],
   "source": [
    "# lead signals layout\n",
    "if layout[1]== 4 and layout[0]==3:\n",
    "    lt_leads = [['I', 'aVR','V1','V4'],\n",
    "                ['II','aVL','V2','V5'],\n",
    "                ['III','aVF', 'V3','V6'],\n",
    "                ['II']]\n",
    "elif layout[1]==2:\n",
    "    raise NotImplementedError ('Not implemented' )\n",
    "elif layout[1]==1:\n",
    "    raise NotImplementedError ('Not implemented' )\n",
    "else:\n",
    "    raise ValueError('columns must be 4, 2 or 1')"
   ]
  },
  {
   "cell_type": "code",
   "execution_count": null,
   "metadata": {},
   "outputs": [],
   "source": [
    "# Define pulse detection\n",
    "if pulse == 0 :\n",
    "    print(\"INFO: No pulse to be detected\")\n",
    "elif pulse == -1:\n",
    "    print(\"INFO: pulse to be detected in all lines\")\n",
    "elif  isinstance(pulse, list): \n",
    "    print(\"INFO: pulse on lines: {}.\".format(pulse)) \n",
    "    for p in pulse:\n",
    "        lt_leads[p].append('Pulse')\n",
    "elif isinstance(pulse, int): \n",
    "    print(\"INFO: pulse on line: {}.\".format(pulse)) \n",
    "    lt_leads[pulse].append('Pulse')\n",
    "else:\n",
    "    raise ValueError('pulse should  be 0, an int or a list')"
   ]
  },
  {
   "cell_type": "code",
   "execution_count": null,
   "metadata": {},
   "outputs": [],
   "source": [
    "# Define rhythm\n",
    "if rhythm == 0:\n",
    "    print(\"INFO: No rhythm lead\") \n",
    "else:\n",
    "    print(\"INFO: Rhythm lead in row #{}.\".format(rhythm)) "
   ]
  },
  {
   "cell_type": "code",
   "execution_count": 8,
   "metadata": {},
   "outputs": [],
   "source": [
    "config_dict = {}\n",
    "config_dict['layout'] = layout   # tuple with the layout\n",
    "config_dict['rhythm'] = rhythm # which row has the rhythm signal\n",
    "config_dict['verbose'] = verbose # \n",
    "config_dict['pulse'] = pulse # which lines have pulse\n",
    "\n",
    "config_dict['pulse_width_mm']  = pulse_width_mm\n",
    "config_dict['pulse_height_mm'] = pulse_height_mm\n",
    "config_dict['pulse_per_mv'] = pulse_per_mv\n",
    "config_dict['pulse_per_sec'] = pulse_per_sec\n",
    "config_dict['num_sampling_points'] = num_sampling_points"
   ]
  },
  {
   "cell_type": "code",
   "execution_count": 9,
   "metadata": {},
   "outputs": [],
   "source": [
    "#load the image \n",
    "#image_name = 'images/ecg_test.png'  # select image\n",
    "image = cv.imread(image_name)\n",
    "\n",
    "# sanity check\n",
    "if image is None:\n",
    "    print('Cannot open image: ' + image_name)\n",
    "    sys.exit(0)\n",
    "if verbose > 2:\n",
    "    print(\"INFO: Image Shape {}.\".format(image.shape))\n",
    "    plt.imshow(image, cmap=\"gray\")\n",
    "    plt.show()"
   ]
  },
  {
   "cell_type": "code",
   "execution_count": 10,
   "metadata": {},
   "outputs": [],
   "source": [
    "#Filter color to remove the grid\n",
    "lower = (0, 0, 0) # black color\n",
    "upper = (100, 100, 100) # dark gray\n",
    "mask = cv.inRange(image, lower, upper)\n",
    "result = image.copy()\n",
    "result[mask != 255] = (255, 255, 255) # if it is not very dark set it to white\n",
    "\n",
    "#Convert to gray scale\n",
    "image_gray = cv.cvtColor(result, cv.COLOR_BGR2GRAY )\n",
    "\n",
    "if verbose > 2:\n",
    "    print(\"INFO: gray scale image Shape {}.\".format(image_gray.shape))\n",
    "    plt.imshow(image_gray, cmap=\"gray\")\n",
    "    plt.show()"
   ]
  },
  {
   "cell_type": "code",
   "execution_count": 11,
   "metadata": {},
   "outputs": [],
   "source": [
    "# use thresholding to transform the image into a binary one\n",
    "ret, th1 = cv.threshold(image_gray, 127, 255, cv.THRESH_OTSU)\n",
    "\n",
    "if verbose > 2:\n",
    "    print(\"INFO: Binary image Shape {}.\".format(th1.shape))\n",
    "    plt.imshow(th1, cmap=\"gray\")\n",
    "    plt.show()"
   ]
  },
  {
   "cell_type": "code",
   "execution_count": 12,
   "metadata": {},
   "outputs": [],
   "source": [
    "foreground  = 255 - th1\n",
    "contours, _ = cv.findContours(foreground, cv.RETR_LIST, cv.CHAIN_APPROX_SIMPLE)\n",
    "rectangular_contours = get_rectangular_contours(contours)\n",
    "\n",
    "if verbose > 1:\n",
    "    plt.imshow(foreground, cmap=\"gray\")\n",
    "    plt.show()"
   ]
  },
  {
   "cell_type": "code",
   "execution_count": 13,
   "metadata": {},
   "outputs": [],
   "source": [
    "contour_image = image_gray.copy()\n",
    "\n",
    "# find the biggest countour (c) by the area\n",
    "c = max(contours, key = cv.contourArea)\n",
    "x_border, y_border, w_border, h_border = cv.boundingRect(c)\n",
    "# draw the biggest contour (c) in green\n",
    "cv.rectangle(contour_image, (x_border,y_border), (x_border + w_border, y_border + h_border), (0, 255, 0), 10)\n",
    "\n",
    "if verbose > 1:\n",
    "    plt.imshow(contour_image, cmap=\"gray\")\n",
    "    #TODO: add title\n",
    "    plt.show()"
   ]
  },
  {
   "cell_type": "code",
   "execution_count": 14,
   "metadata": {},
   "outputs": [],
   "source": [
    "# ECG image extracted from the main image\n",
    "foreground  = 255 - th1[y_border+BORDER_GAP : y_border+h_border-BORDER_GAP,\n",
    "                        x_border+BORDER_GAP : x_border+w_border-BORDER_GAP]\n",
    "if verbose > 1:\n",
    "    plt.imshow(foreground, cmap = \"gray\")\n",
    "    plt.show()"
   ]
  },
  {
   "cell_type": "code",
   "execution_count": 15,
   "metadata": {},
   "outputs": [],
   "source": [
    "#template_name = 'images/pul.png'\n",
    "template = cv.imread(template_name, cv.IMREAD_GRAYSCALE)\n",
    "\n",
    "# sanity check\n",
    "if image is None:\n",
    "    print('Cannot open the template: ' + template_name)\n",
    "    new_template = None\n",
    "else:\n",
    "    #load template to find the pulse\n",
    "    _, new_template = cv.threshold(template, 127, 255, cv.THRESH_OTSU)\n",
    "    new_template = (new_template != 255) * np.uint8(255)\n",
    "    \n",
    "if verbose > 1:\n",
    "    plt.imshow(new_template, cmap = \"gray\")\n",
    "    plt.show()"
   ]
  },
  {
   "cell_type": "code",
   "execution_count": 16,
   "metadata": {},
   "outputs": [],
   "source": [
    "# Extract the individual leads (lines)\n",
    "temp = py_blockproc(foreground, (1,foreground.shape[1]), func=0)\n",
    "median_temp = np.median(temp.flatten())\n",
    "peak_indices, peak_dict = find_peaks(temp.flatten(), height=median_temp, distance=20)\n",
    "peak_heights = peak_dict['peak_heights']\n",
    "\n",
    "highest_peak_index = peak_indices[np.argsort(peak_heights)]\n",
    "\n",
    "if verbose > 0 :\n",
    "    plt.plot(temp.flatten())\n",
    "    # get the leads and the rhythm\n",
    "    plt.plot(highest_peak_index[-(layout[0]+1):], temp[highest_peak_index[-(layout[0]+1):]], \"x\")\n",
    "    plt.plot(median_temp * np.ones_like(temp), \"--\", color=\"gray\")\n",
    "    plt.show()"
   ]
  },
  {
   "cell_type": "code",
   "execution_count": 17,
   "metadata": {},
   "outputs": [],
   "source": [
    "# Calculate the distance between selected peaks\n",
    "ordered_hp_index = sorted(highest_peak_index[-(layout[0]+1):])\n",
    "\n",
    "peak_dist = [np.abs(t - s) for s, t in zip(ordered_hp_index, ordered_hp_index[1:])]\n",
    "max_dist = max(peak_dist) * 7 // 10 #TODO: add as input\n",
    "\n",
    "# Cut the image according to the number of rows in the layout\n",
    "# slices_x is a list of tuples\n",
    "slices_x = [(max(0, s-max_dist), min(foreground.shape[0], s+max_dist),None) for s in ordered_hp_index]\n",
    "slices_y = [(0, foreground.shape[1], None) for s in ordered_hp_index]\n",
    "\n",
    "if verbose > 1 :\n",
    "    print(\"INFO: slices: {}\". format(slices_x))"
   ]
  },
  {
   "cell_type": "code",
   "execution_count": null,
   "metadata": {},
   "outputs": [],
   "source": [
    "# Create a list to store the processed lines\n",
    "proc_line_list = []\n",
    "\n",
    "h, w = foreground.shape\n",
    "blank_image = np.zeros(shape=(h, w), dtype=np.uint8)\n",
    "\n",
    "structure = np.array([[1, 1, 1],\n",
    "                      [1, 1, 1],\n",
    "                      [1, 1, 1]], np.uint8)\n",
    "\n",
    "# Extract and process the leads row-wise.\n",
    "for i, slx in enumerate(slices_x): \n",
    "    line = foreground[slice(*slx), slice(*(0, foreground.shape[1], None))]\n",
    "    offset = slx # reference to locate the segment in the image\n",
    "    plt.imshow(line, cmap=\"gray\")\n",
    "    plt.show()\n",
    "\n",
    "    labeled_line, nb = ndimage.label(line, structure=structure)\n",
    "\n",
    "    if verbose > 1:\n",
    "        print(\"INFO: Number of segments {} on line {}.\".format(nb, i))\n",
    "        display_segments('Labeled line', labeled_line)\n",
    "\n",
    "    if (pulse == -1) or (i in pulse) :   # Check if the pulse is present\n",
    "        line_signal = (labeled_line != 0) * np.uint8(255)\n",
    "        #line_signal = np.where(labeled_line == 0, 0, 255)\n",
    "\n",
    "        # plt.imshow(line_signal, cmap = \"gray\")\n",
    "\n",
    "        #Try to detect the pulse\n",
    "        line_copy = line_signal.copy()\n",
    "        #line_copy = line_copy.astype(\"uint8\")\n",
    "\n",
    "        template_width, template_height = template.shape\n",
    "        line_copy_width, line_copy_height = line_copy.shape\n",
    "        _, _, xt, yt = get_values_from_img(new_template)\n",
    "        wt, ht = measure_extract_pulse(xt, yt, verbose=0)\n",
    "        config_dict['hpulse'] = ht #default values\n",
    "        config_dict['wpulse'] = wt\n",
    "\n",
    "        # Pulse detection by template\n",
    "        detected, location, similarity_value, x, y, wpulse, hpulse = detect_ref_pulse(line_copy, new_template)\n",
    "        print(\"INFO: line {}: best similarity value = {} in {}\".format(i, similarity_value, y))\n",
    "\n",
    "        # if verbose > 1:\n",
    "        #     if detected:\n",
    "        #         print('INFO: pulse detected by template in line {} in {}'.format(i, y))\n",
    "        #         plt.imshow(line_copy[x:x+hpulse+1, y:y+wpulse+1], cmap =\"gray\")\n",
    "        #         plt.show()\n",
    "        #     else:\n",
    "        #         print('INFO: pulse NOT detected by template in line {}'.format(i))\n",
    "    else:\n",
    "        print(\"INFO: line {} has no pulse to detect\".format(i))\n",
    "        wpulse = np.nan\n",
    "        hpulse = np.nan\n",
    "\n",
    "    # TODO: add info in config_dict  \n",
    "    config_dict['wpulse'] = wpulse\n",
    "    config_dict['hpulse'] = hpulse\n",
    "\n",
    "    # Process line\n",
    "    line_dict = process_line(i, labeled_line, offset, lt_leads[i], config_dict, config_dict['verbose'])\n",
    "    proc_line_list.append(line_dict)"
   ]
  },
  {
   "cell_type": "code",
   "execution_count": null,
   "metadata": {},
   "outputs": [],
   "source": [
    "#TODO remove the rhythm form the list of lines\n",
    "if config_dict['rhythm'] != 0:\n",
    "    config_dict['rhythm'] = 0\n",
    "    proc_line_list.pop(rhythm - 1)\n",
    "\n",
    "# convert do a dataframe\n",
    "ecg_df= segment_to_df(proc_line_list, pulse_per_sec, pulse_per_mv, num_sampling_points)\n",
    "ecg_df.to_csv(csv_name)\n",
    "\n",
    "t = np.linspace(0.0, 2.5, len(ecg_df))\n",
    "\n",
    "for k in range(ecg_df.shape[1]):\n",
    "    fig, ax = plt.subplots(figsize=(15,5))\n",
    "    ax.plot(t, ecg_df.iloc[:,k], label=ecg_df.columns[k])\n",
    "    ax.legend(loc=\"upper left\")\n",
    "    plt.suptitle(ecg_df.columns[k])\n",
    "    plt.xticks(np.linspace(t.min(), t.max(), 26))\n",
    "    plt.yticks(np.linspace(ecg_df.iloc[:,k].min(), ecg_df.iloc[:,k].max(), 10))\n",
    "    plt.show()\n",
    "\n",
    "df = ecg_df"
   ]
  }
 ],
 "metadata": {
  "kernelspec": {
   "display_name": "INC",
   "language": "python",
   "name": "python3"
  },
  "language_info": {
   "codemirror_mode": {
    "name": "ipython",
    "version": 3
   },
   "file_extension": ".py",
   "mimetype": "text/x-python",
   "name": "python",
   "nbconvert_exporter": "python",
   "pygments_lexer": "ipython3",
   "version": "3.11.10"
  }
 },
 "nbformat": 4,
 "nbformat_minor": 2
}
